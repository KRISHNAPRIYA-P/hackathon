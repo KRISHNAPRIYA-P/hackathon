{
  "nbformat": 4,
  "nbformat_minor": 0,
  "metadata": {
    "colab": {
      "name": "leaf.ipynb",
      "provenance": [],
      "collapsed_sections": []
    },
    "kernelspec": {
      "display_name": "Python 3",
      "name": "python3"
    },
    "language_info": {
      "name": "python"
    }
  },
  "cells": [
    {
      "cell_type": "code",
      "metadata": {
        "id": "CilGR3WQmTWe"
      },
      "source": [
        "import os\n",
        "import glob\n",
        "import numpy as np\n",
        "import pandas as pd\n",
        "\n",
        "from pprint import pprint\n",
        "\n",
        "import tensorflow as tf\n",
        "\n",
        "from tensorflow.keras.applications.inception_v3 import InceptionV3\n",
        "from tensorflow.keras import Model, layers, Sequential, optimizers\n",
        "from tensorflow.keras.preprocessing.image import ImageDataGenerator\n",
        "from keras.callbacks import ModelCheckpoint,EarlyStopping\n",
        "\n",
        "import matplotlib.pyplot as plt"
      ],
      "execution_count": 1,
      "outputs": []
    },
    {
      "cell_type": "code",
      "metadata": {
        "colab": {
          "base_uri": "https://localhost:8080/"
        },
        "id": "NKO0b7yTmkZY",
        "outputId": "119409aa-f56e-4da3-eb4b-b334968adfb1"
      },
      "source": [
        "from google.colab import drive\n",
        "drive.mount('/content/drive')"
      ],
      "execution_count": 2,
      "outputs": [
        {
          "output_type": "stream",
          "text": [
            "Mounted at /content/drive\n"
          ],
          "name": "stdout"
        }
      ]
    },
    {
      "cell_type": "code",
      "metadata": {
        "colab": {
          "base_uri": "https://localhost:8080/"
        },
        "id": "L-lL4z6vmld-",
        "outputId": "e287cc1f-50b8-4ecb-e919-3ead07935378"
      },
      "source": [
        "print(\"GPUs Available: \", tf.config.experimental.list_physical_devices('GPU'))"
      ],
      "execution_count": 3,
      "outputs": [
        {
          "output_type": "stream",
          "text": [
            "GPUs Available:  [PhysicalDevice(name='/physical_device:GPU:0', device_type='GPU')]\n"
          ],
          "name": "stdout"
        }
      ]
    },
    {
      "cell_type": "code",
      "metadata": {
        "id": "G18888G49JQw"
      },
      "source": [
        "train_path = \"/content/drive/MyDrive/data/disease_leaf/train\"\n",
        "valid_path = \"/content/drive/MyDrive/data/disease_leaf/val\""
      ],
      "execution_count": 4,
      "outputs": []
    },
    {
      "cell_type": "code",
      "metadata": {
        "id": "QOuDrsau9JUH"
      },
      "source": [
        "training_images = []\n",
        "\n",
        "for root, dirs, files in os.walk(train_path):\n",
        "    for file in files:\n",
        "        training_images.append(os.path.join(root, file))\n",
        "                               \n",
        "validation_images = []\n",
        "\n",
        "for root, dirs, files in os.walk(valid_path):\n",
        "    for file in files:\n",
        "        validation_images.append(os.path.join(root, file))"
      ],
      "execution_count": 5,
      "outputs": []
    },
    {
      "cell_type": "code",
      "metadata": {
        "colab": {
          "base_uri": "https://localhost:8080/"
        },
        "id": "BrJ7db0E9pSu",
        "outputId": "a70705fd-ec7d-44cc-de2b-ea2d69352384"
      },
      "source": [
        "print(\"Training:\")\n",
        "print(\"Training Path:\" + train_path)\n",
        "print(\"Training Classes:\" + str(len(os.listdir(train_path))))\n",
        "print(\"Training Images:\" + str(len(training_images)))\n",
        "\n",
        "print(\"\\n\")\n",
        "\n",
        "print(\"Validation:\")\n",
        "print(\"Validation Path:\" + valid_path)\n",
        "print(\"Validation Classes:\" + str(len(os.listdir(valid_path))))\n",
        "print(\"Validation Images:\" + str(len(validation_images)))\n",
        "\n",
        "print(\"\\n\")"
      ],
      "execution_count": 6,
      "outputs": [
        {
          "output_type": "stream",
          "text": [
            "Training:\n",
            "Training Path:/content/drive/MyDrive/data/disease_leaf/train\n",
            "Training Classes:2\n",
            "Training Images:3909\n",
            "\n",
            "\n",
            "Validation:\n",
            "Validation Path:/content/drive/MyDrive/data/disease_leaf/val\n",
            "Validation Classes:2\n",
            "Validation Images:975\n",
            "\n",
            "\n"
          ],
          "name": "stdout"
        }
      ]
    },
    {
      "cell_type": "code",
      "metadata": {
        "id": "Ri6Hdkqw9rbr"
      },
      "source": [
        "train_datagen = ImageDataGenerator(\n",
        "    rescale=1/255,\n",
        "    width_shift_range=0.2,\n",
        "    height_shift_range=0.2,\n",
        "    zoom_range=0.2,\n",
        "    shear_range=0.2,\n",
        "    fill_mode='nearest'\n",
        ")\n",
        "\n",
        "validation_datagen = ImageDataGenerator(rescale=1/255)"
      ],
      "execution_count": 7,
      "outputs": []
    },
    {
      "cell_type": "code",
      "metadata": {
        "id": "2aLO4b2S9tan"
      },
      "source": [
        "batch_size = 32"
      ],
      "execution_count": 8,
      "outputs": []
    },
    {
      "cell_type": "code",
      "metadata": {
        "colab": {
          "base_uri": "https://localhost:8080/"
        },
        "id": "-lULLH319w_k",
        "outputId": "d5c98ee2-f8ba-4456-9c2e-0cfa7990dcb7"
      },
      "source": [
        "train_generator = train_datagen.flow_from_directory(\n",
        "    train_path,\n",
        "    batch_size = batch_size,\n",
        "    class_mode = 'categorical',\n",
        "    target_size = (150, 150),\n",
        "    color_mode=\"rgb\",\n",
        "    shuffle=True\n",
        ")\n",
        "\n",
        "validation_generator =  validation_datagen.flow_from_directory(\n",
        "    valid_path,\n",
        "    batch_size  = batch_size,\n",
        "    class_mode  = 'categorical',\n",
        "    target_size = (150, 150),\n",
        "    color_mode=\"rgb\",\n",
        "    shuffle=True\n",
        ")"
      ],
      "execution_count": 9,
      "outputs": [
        {
          "output_type": "stream",
          "text": [
            "Found 3909 images belonging to 2 classes.\n",
            "Found 975 images belonging to 2 classes.\n"
          ],
          "name": "stdout"
        }
      ]
    },
    {
      "cell_type": "code",
      "metadata": {
        "colab": {
          "base_uri": "https://localhost:8080/"
        },
        "id": "S0-raXpg9y2X",
        "outputId": "8c0e485a-fda1-48c6-f16e-b381213a236f"
      },
      "source": [
        "class_dict = train_generator.class_indices\n",
        "pprint(class_dict)"
      ],
      "execution_count": 10,
      "outputs": [
        {
          "output_type": "stream",
          "text": [
            "{'Pepper,_bell___Bacterial_spot': 0, 'Pepper,_bell___healthy': 1}\n"
          ],
          "name": "stdout"
        }
      ]
    },
    {
      "cell_type": "code",
      "metadata": {
        "colab": {
          "base_uri": "https://localhost:8080/"
        },
        "id": "QHbw9riM9y4_",
        "outputId": "f3ba5236-f523-430b-fbcb-4e8775071915"
      },
      "source": [
        "class_list = list(class_dict.keys())\n",
        "pprint(class_list)"
      ],
      "execution_count": 11,
      "outputs": [
        {
          "output_type": "stream",
          "text": [
            "['Pepper,_bell___Bacterial_spot', 'Pepper,_bell___healthy']\n"
          ],
          "name": "stdout"
        }
      ]
    },
    {
      "cell_type": "code",
      "metadata": {
        "id": "IQS6Apyj94EK"
      },
      "source": [
        "train_num = train_generator.samples\n",
        "valid_num = validation_generator.samples"
      ],
      "execution_count": 12,
      "outputs": []
    },
    {
      "cell_type": "code",
      "metadata": {
        "id": "nbY1m4gI94Gr"
      },
      "source": [
        "# Creating Instence of pre-trained model from Keras Application\n",
        "inception_model = InceptionV3(input_shape= (150, 150, 3),\n",
        "                                include_top = False,\n",
        "                                weights = 'imagenet')"
      ],
      "execution_count": 13,
      "outputs": []
    },
    {
      "cell_type": "code",
      "metadata": {
        "id": "8GT0gwbK97jP"
      },
      "source": [
        "# Freezing all Layers of Inception V3 Model\n",
        "for layer in inception_model.layers:\n",
        "    layer.trainable = False"
      ],
      "execution_count": 14,
      "outputs": []
    },
    {
      "cell_type": "code",
      "metadata": {
        "id": "kc2x9aMM9-ec"
      },
      "source": [
        "# inception_model.summary()"
      ],
      "execution_count": 1,
      "outputs": []
    },
    {
      "cell_type": "code",
      "metadata": {
        "colab": {
          "base_uri": "https://localhost:8080/"
        },
        "id": "vwvxUPVg-AVx",
        "outputId": "44215cab-be7c-400a-f643-ff29143a62bf"
      },
      "source": [
        "# Taking output from 'mixed8' layer\n",
        "last_layer = inception_model.get_layer('mixed9')\n",
        "print('Last Layer Output Shape:', last_layer.output_shape)\n",
        "last_output = last_layer.output"
      ],
      "execution_count": 16,
      "outputs": [
        {
          "output_type": "stream",
          "text": [
            "Last Layer Output Shape: (None, 3, 3, 2048)\n"
          ],
          "name": "stdout"
        }
      ]
    },
    {
      "cell_type": "code",
      "metadata": {
        "id": "i2a35oDw-C8F"
      },
      "source": [
        "# Adding our own layers at the end of Inception Network\n",
        "\n",
        "# Flatten the output layer to 1 dimension\n",
        "x = layers.Flatten()(last_output)\n",
        "\n",
        "# Add a fully connected layer with 1024 hidden units and ReLU activation\n",
        "x = layers.Dense(2048, activation='relu')(x)\n",
        "\n",
        "# Add a fully connected layer with 1024 hidden units and ReLU activation\n",
        "x = layers.Dense(1024, activation='relu')(x)\n",
        "\n",
        "# Add a dropout rate of 0.2\n",
        "x = layers.Dropout(0.2)(x)\n",
        "\n",
        "# Add a final sigmoid layer for classification\n",
        "x = layers.Dense(len(class_dict), activation='softmax')(x)\n",
        "\n",
        "model = Model(inception_model.input, x)"
      ],
      "execution_count": 17,
      "outputs": []
    },
    {
      "cell_type": "code",
      "metadata": {
        "colab": {
          "base_uri": "https://localhost:8080/"
        },
        "id": "53JxuxOr-FLv",
        "outputId": "9389551a-bbc9-4f97-a6da-f63f3288c6f9"
      },
      "source": [
        "model.compile(optimizer=optimizers.RMSprop(lr=0.0001),\n",
        "              loss = 'categorical_crossentropy',\n",
        "              metrics = ['accuracy'])"
      ],
      "execution_count": 18,
      "outputs": [
        {
          "output_type": "stream",
          "text": [
            "/usr/local/lib/python3.7/dist-packages/tensorflow/python/keras/optimizer_v2/optimizer_v2.py:375: UserWarning: The `lr` argument is deprecated, use `learning_rate` instead.\n",
            "  \"The `lr` argument is deprecated, use `learning_rate` instead.\")\n"
          ],
          "name": "stderr"
        }
      ]
    },
    {
      "cell_type": "code",
      "metadata": {
        "id": "axPCJmPU-LL_",
        "colab": {
          "base_uri": "https://localhost:8080/"
        },
        "outputId": "3cdaca51-6587-4349-ffef-9b5f3d8c3b82"
      },
      "source": [
        "history = model.fit(\n",
        "    train_generator,\n",
        "    steps_per_epoch=train_num//batch_size,\n",
        "    validation_data = validation_generator,\n",
        "    validation_steps=valid_num//batch_size,\n",
        "    epochs = 30,\n",
        "    callbacks=[EarlyStopping(monitor='val_loss',min_delta=0.0001)],\n",
        "    verbose = 1\n",
        ")"
      ],
      "execution_count": 20,
      "outputs": [
        {
          "output_type": "stream",
          "text": [
            "Epoch 1/30\n",
            "122/122 [==============================] - 1124s 9s/step - loss: 0.2232 - accuracy: 0.9113 - val_loss: 0.0980 - val_accuracy: 0.9604\n"
          ],
          "name": "stdout"
        }
      ]
    },
    {
      "cell_type": "code",
      "metadata": {
        "id": "66s8YXu5-NHG",
        "colab": {
          "base_uri": "https://localhost:8080/"
        },
        "outputId": "ff036019-7e68-48ba-f303-2d60266223a6"
      },
      "source": [
        "model.evaluate_generator(\n",
        "    generator=validation_generator,\n",
        "    steps=valid_num//batch_size\n",
        ")"
      ],
      "execution_count": 21,
      "outputs": [
        {
          "output_type": "stream",
          "text": [
            "/usr/local/lib/python3.7/dist-packages/tensorflow/python/keras/engine/training.py:1973: UserWarning: `Model.evaluate_generator` is deprecated and will be removed in a future version. Please use `Model.evaluate`, which supports generators.\n",
            "  warnings.warn('`Model.evaluate_generator` is deprecated and '\n"
          ],
          "name": "stderr"
        },
        {
          "output_type": "execute_result",
          "data": {
            "text/plain": [
              "[0.09537424892187119, 0.9614583253860474]"
            ]
          },
          "metadata": {
            "tags": []
          },
          "execution_count": 21
        }
      ]
    },
    {
      "cell_type": "code",
      "metadata": {
        "id": "c5BqL2VXaB_2"
      },
      "source": [
        "# model.save(\"/content/drive/MyDrive/mymodel.h5py\")"
      ],
      "execution_count": 91,
      "outputs": []
    },
    {
      "cell_type": "code",
      "metadata": {
        "id": "nz2iwmlr-bxk"
      },
      "source": [
        "import pickle\n",
        "import tensorflow\n",
        "import keras\n",
        "from tensorflow.keras.preprocessing.image import ImageDataGenerator\n",
        "model=keras.models.load_model(\"/content/drive/MyDrive/mymodel.h5py\")"
      ],
      "execution_count": 3,
      "outputs": []
    },
    {
      "cell_type": "code",
      "metadata": {
        "id": "K8vH2t5wrqpu"
      },
      "source": [
        "import os\n",
        "import numpy as np"
      ],
      "execution_count": 4,
      "outputs": []
    },
    {
      "cell_type": "code",
      "metadata": {
        "id": "OfsazSqGG4B6"
      },
      "source": [
        "\"\"\" if directly images are provided\"\"\"\n",
        "\n",
        "test_img='/content/drive/MyDrive/data/disease_leaf/test/test/pepper2.jpg'\n",
        "image=tf.keras.preprocessing.image.load_img(\n",
        "    test_img, grayscale=False, color_mode=\"rgb\", target_size=(150,150), interpolation=\"nearest\"\n",
        ")\n",
        "input_arr = tf.keras.preprocessing.image.img_to_array(image)\n",
        "input_arr = np.array([input_arr])\n",
        "pred=model.predict_generator(input_arr)\n"
      ],
      "execution_count": 5,
      "outputs": []
    },
    {
      "cell_type": "code",
      "metadata": {
        "id": "LGMMMN5X_dHQ"
      },
      "source": [
        "test_datagen = ImageDataGenerator(rescale=1/255)"
      ],
      "execution_count": 6,
      "outputs": []
    },
    {
      "cell_type": "code",
      "metadata": {
        "id": "JA82_qM0-g-4",
        "colab": {
          "base_uri": "https://localhost:8080/"
        },
        "outputId": "4f957360-d912-4e78-cca6-b948a4d02424"
      },
      "source": [
        "predicted_class_indices=np.argmax(pred,axis=1)\n",
        "predicted_class_indices"
      ],
      "execution_count": 21,
      "outputs": [
        {
          "output_type": "execute_result",
          "data": {
            "text/plain": [
              "array([0])"
            ]
          },
          "metadata": {
            "tags": []
          },
          "execution_count": 21
        }
      ]
    },
    {
      "cell_type": "code",
      "metadata": {
        "id": "ve4mupz4wO38"
      },
      "source": [
        "if (predicted_class_indices==[1]):\n",
        "  result='Healthy'\n",
        "else:\n",
        "  result='Infected'\n"
      ],
      "execution_count": 23,
      "outputs": []
    }
  ]
}